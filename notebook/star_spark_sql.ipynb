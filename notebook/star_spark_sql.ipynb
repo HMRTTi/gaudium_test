{
  "nbformat": 4,
  "nbformat_minor": 0,
  "metadata": {
    "colab": {
      "provenance": [],
      "authorship_tag": "ABX9TyNOvotYHQMJtIlEr3WKefyj"
    },
    "kernelspec": {
      "name": "python3",
      "display_name": "Python 3"
    },
    "language_info": {
      "name": "python"
    }
  },
  "cells": [
    {
      "cell_type": "code",
      "execution_count": 1,
      "metadata": {
        "id": "F2Dy25TH92uQ"
      },
      "outputs": [],
      "source": [
        "!apt-get install openjdk-11-jdk-headless -qq > /dev/null\n",
        "\n",
        "!wget -q https://archive.apache.org/dist/spark/spark-3.3.2/spark-3.3.2-bin-hadoop3.tgz\n",
        "!tar xf spark-3.3.2-bin-hadoop3.tgz\n",
        "\n",
        "!pip install -q findspark\n",
        "\n",
        "import os\n",
        "os.environ[\"JAVA_HOME\"] = \"/usr/lib/jvm/java-11-openjdk-amd64\"\n",
        "os.environ[\"SPARK_HOME\"] = \"/content/spark-3.3.2-bin-hadoop3\"\n",
        "\n",
        "import findspark\n",
        "findspark.init()\n",
        "\n",
        "from pyspark.sql import SparkSession\n",
        "spark = SparkSession.builder.appName(\"Spark SQL\").getOrCreate()\n",
        "\n"
      ]
    },
    {
      "cell_type": "code",
      "source": [
        "from pyspark.sql import functions as F\n",
        "from pyspark.sql.functions import when, monotonically_increasing_id as miid\n",
        "from IPython.display import display, HTML\n",
        "\n",
        "df = (\n",
        "    spark.read.option(\"header\", \"true\")\n",
        "    .csv(\"/content/Dados brutos.csv\")\n",
        "    .withColumn(\"data\", F.to_date(\"data\", \"yyyy-MM-dd\"))\n",
        "    .withColumn(\"qtd_vendida\", F.col(\"qtd_vendida\").cast(\"integer\"))\n",
        "    .withColumn(\"valor_total\", F.col(\"valor_total\").cast(\"decimal(10,2)\"))\n",
        ")\n",
        "\n",
        "df.createOrReplaceTempView(\"vendas_temp\")\n",
        "\n",
        "display(HTML(f\"<pre>{df._jdf.showString(100, 20, False)}</pre>\"))\n"
      ],
      "metadata": {
        "colab": {
          "base_uri": "https://localhost:8080/",
          "height": 1000
        },
        "id": "ZL630Nva--K-",
        "outputId": "a3dcc810-6424-436e-dcef-ed49a8988611"
      },
      "execution_count": 2,
      "outputs": [
        {
          "output_type": "display_data",
          "data": {
            "text/plain": [
              "<IPython.core.display.HTML object>"
            ],
            "text/html": [
              "<pre>+-------------+--------------+------+------------+---------+----------+----------+-----------+-----------+\n",
              "| nome_cliente|        cidade|estado|nome_produto|categoria|fabricante|      data|qtd_vendida|valor_total|\n",
              "+-------------+--------------+------+------------+---------+----------+----------+-----------+-----------+\n",
              "|Lucas Pereira|  Porto Alegre|    RS|  Detergente|  Limpeza|       Ypê|2024-01-26|          6|      90.00|\n",
              "|Lucas Pereira|  Porto Alegre|    RS|      Feijão| Alimento|   Kicaldo|2024-01-14|         10|     240.00|\n",
              "| Ana Oliveira|Rio de Janeiro|    RJ|Refrigerante|   Bebida| Coca-Cola|2024-01-15|          3|     150.00|\n",
              "| Pedro Santos|      Curitiba|    PR|      Feijão| Alimento|   Kicaldo|2024-01-28|          4|     152.00|\n",
              "| Pedro Santos|      Curitiba|    PR|       Arroz| Alimento|     Camil|2024-01-24|          3|      87.00|\n",
              "| Pedro Santos|      Curitiba|    PR|Refrigerante|   Bebida| Coca-Cola|2024-01-10|          6|     192.00|\n",
              "|   João Silva|     São Paulo|    SP|  Detergente|  Limpeza|       Ypê|2024-01-02|         10|     190.00|\n",
              "|Lucas Pereira|  Porto Alegre|    RS|      Feijão| Alimento|   Kicaldo|2024-01-17|         10|     260.00|\n",
              "| Pedro Santos|      Curitiba|    PR| Sabão em pó|  Limpeza|       OMO|2024-01-24|          2|      90.00|\n",
              "|   João Silva|     São Paulo|    SP|      Feijão| Alimento|   Kicaldo|2024-01-19|         10|     470.00|\n",
              "| Pedro Santos|      Curitiba|    PR|Refrigerante|   Bebida| Coca-Cola|2024-01-26|          7|     273.00|\n",
              "|Lucas Pereira|  Porto Alegre|    RS|       Arroz| Alimento|     Camil|2024-01-19|          2|      42.00|\n",
              "| Ana Oliveira|Rio de Janeiro|    RJ| Sabão em pó|  Limpeza|       OMO|2024-01-09|          3|      57.00|\n",
              "|  Maria Souza|Belo Horizonte|    MG|       Arroz| Alimento|     Camil|2024-01-02|          5|     220.00|\n",
              "|   João Silva|     São Paulo|    SP|  Detergente|  Limpeza|       Ypê|2024-01-13|          3|      39.00|\n",
              "| Ana Oliveira|Rio de Janeiro|    RJ|  Detergente|  Limpeza|       Ypê|2024-01-21|          1|      33.00|\n",
              "|   João Silva|     São Paulo|    SP|Refrigerante|   Bebida| Coca-Cola|2024-01-19|          9|     162.00|\n",
              "| Pedro Santos|      Curitiba|    PR|       Arroz| Alimento|     Camil|2024-01-05|          5|      35.00|\n",
              "|  Maria Souza|Belo Horizonte|    MG| Sabão em pó|  Limpeza|       OMO|2024-01-19|          3|     117.00|\n",
              "|   João Silva|     São Paulo|    SP|       Arroz| Alimento|     Camil|2024-01-04|          9|     441.00|\n",
              "|  Maria Souza|Belo Horizonte|    MG|Refrigerante|   Bebida| Coca-Cola|2024-01-08|          5|     115.00|\n",
              "| Ana Oliveira|Rio de Janeiro|    RJ| Sabão em pó|  Limpeza|       OMO|2024-01-16|          8|     120.00|\n",
              "|  Maria Souza|Belo Horizonte|    MG|Refrigerante|   Bebida| Coca-Cola|2024-01-05|         10|     170.00|\n",
              "| Pedro Santos|      Curitiba|    PR|Refrigerante|   Bebida| Coca-Cola|2024-01-01|          7|     266.00|\n",
              "|   João Silva|     São Paulo|    SP|Refrigerante|   Bebida| Coca-Cola|2024-01-21|          5|     120.00|\n",
              "|   João Silva|     São Paulo|    SP|       Arroz| Alimento|     Camil|2024-01-30|          3|      48.00|\n",
              "|   João Silva|     São Paulo|    SP|      Feijão| Alimento|   Kicaldo|2024-01-30|          3|      87.00|\n",
              "|   João Silva|     São Paulo|    SP|       Arroz| Alimento|     Camil|2024-01-24|          7|     273.00|\n",
              "|   João Silva|     São Paulo|    SP| Sabão em pó|  Limpeza|       OMO|2024-01-07|          4|      52.00|\n",
              "| Ana Oliveira|Rio de Janeiro|    RJ| Sabão em pó|  Limpeza|       OMO|2024-01-20|          1|      48.00|\n",
              "|Lucas Pereira|  Porto Alegre|    RS| Sabão em pó|  Limpeza|       OMO|2024-01-11|          8|     264.00|\n",
              "| Pedro Santos|      Curitiba|    PR|Refrigerante|   Bebida| Coca-Cola|2024-01-10|          8|     104.00|\n",
              "| Ana Oliveira|Rio de Janeiro|    RJ|      Feijão| Alimento|   Kicaldo|2024-01-23|          5|     205.00|\n",
              "|  Maria Souza|Belo Horizonte|    MG| Sabão em pó|  Limpeza|       OMO|2024-01-07|          3|      93.00|\n",
              "| Ana Oliveira|Rio de Janeiro|    RJ|      Feijão| Alimento|   Kicaldo|2024-01-27|          5|     215.00|\n",
              "| Ana Oliveira|Rio de Janeiro|    RJ|      Feijão| Alimento|   Kicaldo|2024-01-16|          9|      90.00|\n",
              "| Ana Oliveira|Rio de Janeiro|    RJ|      Feijão| Alimento|   Kicaldo|2024-01-24|          4|     184.00|\n",
              "| Ana Oliveira|Rio de Janeiro|    RJ|      Feijão| Alimento|   Kicaldo|2024-01-07|          7|     259.00|\n",
              "|   João Silva|     São Paulo|    SP|      Feijão| Alimento|   Kicaldo|2024-01-25|          9|      45.00|\n",
              "|  Maria Souza|Belo Horizonte|    MG|  Detergente|  Limpeza|       Ypê|2024-01-06|          9|     243.00|\n",
              "| Pedro Santos|      Curitiba|    PR|  Detergente|  Limpeza|       Ypê|2024-01-05|          3|      27.00|\n",
              "| Ana Oliveira|Rio de Janeiro|    RJ| Sabão em pó|  Limpeza|       OMO|2024-01-22|         10|     220.00|\n",
              "| Ana Oliveira|Rio de Janeiro|    RJ| Sabão em pó|  Limpeza|       OMO|2024-01-20|          8|      48.00|\n",
              "|Lucas Pereira|  Porto Alegre|    RS|  Detergente|  Limpeza|       Ypê|2024-01-02|          7|     343.00|\n",
              "|Lucas Pereira|  Porto Alegre|    RS|  Detergente|  Limpeza|       Ypê|2024-01-12|          6|     204.00|\n",
              "| Pedro Santos|      Curitiba|    PR|  Detergente|  Limpeza|       Ypê|2024-01-11|          4|     156.00|\n",
              "|   João Silva|     São Paulo|    SP|  Detergente|  Limpeza|       Ypê|2024-01-21|          7|      84.00|\n",
              "|Lucas Pereira|  Porto Alegre|    RS|Refrigerante|   Bebida| Coca-Cola|2024-01-21|          2|      42.00|\n",
              "| Pedro Santos|      Curitiba|    PR|  Detergente|  Limpeza|       Ypê|2024-01-30|          4|      20.00|\n",
              "|Lucas Pereira|  Porto Alegre|    RS|Refrigerante|   Bebida| Coca-Cola|2024-01-02|          4|     184.00|\n",
              "| Pedro Santos|      Curitiba|    PR| Sabão em pó|  Limpeza|       OMO|2024-01-14|          3|     114.00|\n",
              "|   João Silva|     São Paulo|    SP|       Arroz| Alimento|     Camil|2024-01-01|          9|      45.00|\n",
              "|   João Silva|     São Paulo|    SP|  Detergente|  Limpeza|       Ypê|2024-01-27|          4|      96.00|\n",
              "|Lucas Pereira|  Porto Alegre|    RS|      Feijão| Alimento|   Kicaldo|2024-01-30|          2|      12.00|\n",
              "|   João Silva|     São Paulo|    SP|  Detergente|  Limpeza|       Ypê|2024-01-04|          8|     368.00|\n",
              "| Pedro Santos|      Curitiba|    PR| Sabão em pó|  Limpeza|       OMO|2024-01-07|          5|      90.00|\n",
              "|Lucas Pereira|  Porto Alegre|    RS|Refrigerante|   Bebida| Coca-Cola|2024-01-01|          1|      38.00|\n",
              "|   João Silva|     São Paulo|    SP|  Detergente|  Limpeza|       Ypê|2024-01-01|          4|      24.00|\n",
              "| Pedro Santos|      Curitiba|    PR| Sabão em pó|  Limpeza|       OMO|2024-01-16|          7|     154.00|\n",
              "| Ana Oliveira|Rio de Janeiro|    RJ|       Arroz| Alimento|     Camil|2024-01-19|          3|      57.00|\n",
              "|   João Silva|     São Paulo|    SP|  Detergente|  Limpeza|       Ypê|2024-01-20|          4|      40.00|\n",
              "|   João Silva|     São Paulo|    SP|  Detergente|  Limpeza|       Ypê|2024-01-10|          9|     432.00|\n",
              "| Pedro Santos|      Curitiba|    PR|      Feijão| Alimento|   Kicaldo|2024-01-05|          7|     168.00|\n",
              "|  Maria Souza|Belo Horizonte|    MG|Refrigerante|   Bebida| Coca-Cola|2024-01-20|          4|     148.00|\n",
              "|   João Silva|     São Paulo|    SP|      Feijão| Alimento|   Kicaldo|2024-01-13|          9|     171.00|\n",
              "|Lucas Pereira|  Porto Alegre|    RS|       Arroz| Alimento|     Camil|2024-01-02|          3|      90.00|\n",
              "|   João Silva|     São Paulo|    SP| Sabão em pó|  Limpeza|       OMO|2024-01-08|          7|     217.00|\n",
              "|Lucas Pereira|  Porto Alegre|    RS|       Arroz| Alimento|     Camil|2024-01-10|          8|      88.00|\n",
              "|Lucas Pereira|  Porto Alegre|    RS| Sabão em pó|  Limpeza|       OMO|2024-01-26|          6|     198.00|\n",
              "| Ana Oliveira|Rio de Janeiro|    RJ|Refrigerante|   Bebida| Coca-Cola|2024-01-21|          6|     174.00|\n",
              "|   João Silva|     São Paulo|    SP|       Arroz| Alimento|     Camil|2024-01-14|          8|     320.00|\n",
              "|Lucas Pereira|  Porto Alegre|    RS|      Feijão| Alimento|   Kicaldo|2024-01-23|          3|      51.00|\n",
              "| Pedro Santos|      Curitiba|    PR| Sabão em pó|  Limpeza|       OMO|2024-01-19|         10|     390.00|\n",
              "|Lucas Pereira|  Porto Alegre|    RS|Refrigerante|   Bebida| Coca-Cola|2024-01-12|          5|     160.00|\n",
              "|Lucas Pereira|  Porto Alegre|    RS|      Feijão| Alimento|   Kicaldo|2024-01-20|          7|     210.00|\n",
              "| Pedro Santos|      Curitiba|    PR|  Detergente|  Limpeza|       Ypê|2024-01-18|         10|     240.00|\n",
              "|Lucas Pereira|  Porto Alegre|    RS| Sabão em pó|  Limpeza|       OMO|2024-01-17|          7|     140.00|\n",
              "| Ana Oliveira|Rio de Janeiro|    RJ|      Feijão| Alimento|   Kicaldo|2024-01-10|          1|      43.00|\n",
              "| Ana Oliveira|Rio de Janeiro|    RJ|      Feijão| Alimento|   Kicaldo|2024-01-29|         10|     110.00|\n",
              "| Pedro Santos|      Curitiba|    PR|      Feijão| Alimento|   Kicaldo|2024-01-29|          5|      65.00|\n",
              "|Lucas Pereira|  Porto Alegre|    RS|      Feijão| Alimento|   Kicaldo|2024-01-28|          3|      69.00|\n",
              "|Lucas Pereira|  Porto Alegre|    RS|       Arroz| Alimento|     Camil|2024-01-13|          2|      86.00|\n",
              "| Pedro Santos|      Curitiba|    PR|  Detergente|  Limpeza|       Ypê|2024-01-30|          4|     196.00|\n",
              "|   João Silva|     São Paulo|    SP|Refrigerante|   Bebida| Coca-Cola|2024-01-25|          1|      21.00|\n",
              "| Ana Oliveira|Rio de Janeiro|    RJ|Refrigerante|   Bebida| Coca-Cola|2024-01-06|          2|      56.00|\n",
              "| Pedro Santos|      Curitiba|    PR|      Feijão| Alimento|   Kicaldo|2024-01-28|          8|     192.00|\n",
              "|Lucas Pereira|  Porto Alegre|    RS| Sabão em pó|  Limpeza|       OMO|2024-01-30|         10|     180.00|\n",
              "|   João Silva|     São Paulo|    SP| Sabão em pó|  Limpeza|       OMO|2024-01-30|          8|     312.00|\n",
              "|  Maria Souza|Belo Horizonte|    MG|Refrigerante|   Bebida| Coca-Cola|2024-01-11|          1|       9.00|\n",
              "| Pedro Santos|      Curitiba|    PR|  Detergente|  Limpeza|       Ypê|2024-01-11|          6|     102.00|\n",
              "| Ana Oliveira|Rio de Janeiro|    RJ|  Detergente|  Limpeza|       Ypê|2024-01-20|          1|      37.00|\n",
              "| Ana Oliveira|Rio de Janeiro|    RJ|Refrigerante|   Bebida| Coca-Cola|2024-01-01|          7|      70.00|\n",
              "|  Maria Souza|Belo Horizonte|    MG| Sabão em pó|  Limpeza|       OMO|2024-01-13|          1|      47.00|\n",
              "|   João Silva|     São Paulo|    SP|       Arroz| Alimento|     Camil|2024-01-13|          9|     423.00|\n",
              "|  Maria Souza|Belo Horizonte|    MG|       Arroz| Alimento|     Camil|2024-01-02|          8|     272.00|\n",
              "|   João Silva|     São Paulo|    SP|      Feijão| Alimento|   Kicaldo|2024-01-09|          1|      46.00|\n",
              "|  Maria Souza|Belo Horizonte|    MG|      Feijão| Alimento|   Kicaldo|2024-01-05|         10|     360.00|\n",
              "|   João Silva|     São Paulo|    SP|       Arroz| Alimento|     Camil|2024-01-02|          5|     120.00|\n",
              "| Ana Oliveira|Rio de Janeiro|    RJ|  Detergente|  Limpeza|       Ypê|2024-01-15|          2|      36.00|\n",
              "| Ana Oliveira|Rio de Janeiro|    RJ|Refrigerante|   Bebida| Coca-Cola|2024-01-01|          8|      88.00|\n",
              "+-------------+--------------+------+------------+---------+----------+----------+-----------+-----------+\n",
              "</pre>"
            ]
          },
          "metadata": {}
        }
      ]
    },
    {
      "cell_type": "code",
      "source": [
        "dim_cliente = spark.sql(\n",
        "    \"\"\"\n",
        "    SELECT\n",
        "        ROW_NUMBER() OVER (ORDER BY nome_cliente) AS id_cliente,\n",
        "        nome_cliente,\n",
        "        cidade,\n",
        "        estado\n",
        "    FROM\n",
        "        vendas_temp\n",
        "    GROUP BY\n",
        "        nome_cliente,\n",
        "        cidade,\n",
        "        estado\n",
        "\"\"\"\n",
        ")\n",
        "\n",
        "dim_cliente.createOrReplaceTempView(\"dim_cliente\")\n",
        "display(HTML(f\"<pre>{dim_cliente._jdf.showString(100, 20, False)}</pre>\"))"
      ],
      "metadata": {
        "colab": {
          "base_uri": "https://localhost:8080/",
          "height": 173
        },
        "id": "IKDC2XgbAi7H",
        "outputId": "45607c07-b59e-4b06-dd7d-77c4ba40b607"
      },
      "execution_count": 3,
      "outputs": [
        {
          "output_type": "display_data",
          "data": {
            "text/plain": [
              "<IPython.core.display.HTML object>"
            ],
            "text/html": [
              "<pre>+----------+-------------+--------------+------+\n",
              "|id_cliente| nome_cliente|        cidade|estado|\n",
              "+----------+-------------+--------------+------+\n",
              "|         1| Ana Oliveira|Rio de Janeiro|    RJ|\n",
              "|         2|   João Silva|     São Paulo|    SP|\n",
              "|         3|Lucas Pereira|  Porto Alegre|    RS|\n",
              "|         4|  Maria Souza|Belo Horizonte|    MG|\n",
              "|         5| Pedro Santos|      Curitiba|    PR|\n",
              "+----------+-------------+--------------+------+\n",
              "</pre>"
            ]
          },
          "metadata": {}
        }
      ]
    },
    {
      "cell_type": "code",
      "source": [
        "dim_produto = spark.sql(\n",
        "    \"\"\"\n",
        "    SELECT\n",
        "        ROW_NUMBER() OVER (ORDER BY nome_produto) AS id_produto,\n",
        "        nome_produto,\n",
        "        categoria,\n",
        "        fabricante\n",
        "    FROM\n",
        "        vendas_temp\n",
        "    GROUP BY\n",
        "        nome_produto,\n",
        "        categoria,\n",
        "        fabricante\n",
        "\"\"\"\n",
        ")\n",
        "\n",
        "dim_produto.createOrReplaceTempView(\"dim_produto\")\n",
        "display(HTML(f\"<pre>{dim_produto._jdf.showString(100, 20, False)}</pre>\"))"
      ],
      "metadata": {
        "colab": {
          "base_uri": "https://localhost:8080/",
          "height": 173
        },
        "id": "vjIgA8gABgwR",
        "outputId": "fd4ce847-18c8-4151-8ab6-fb5613254cb0"
      },
      "execution_count": 4,
      "outputs": [
        {
          "output_type": "display_data",
          "data": {
            "text/plain": [
              "<IPython.core.display.HTML object>"
            ],
            "text/html": [
              "<pre>+----------+------------+---------+----------+\n",
              "|id_produto|nome_produto|categoria|fabricante|\n",
              "+----------+------------+---------+----------+\n",
              "|         1|       Arroz| Alimento|     Camil|\n",
              "|         2|  Detergente|  Limpeza|       Ypê|\n",
              "|         3|      Feijão| Alimento|   Kicaldo|\n",
              "|         4|Refrigerante|   Bebida| Coca-Cola|\n",
              "|         5| Sabão em pó|  Limpeza|       OMO|\n",
              "+----------+------------+---------+----------+\n",
              "</pre>"
            ]
          },
          "metadata": {}
        }
      ]
    },
    {
      "cell_type": "code",
      "source": [
        "dim_data = spark.sql(\"\"\"\n",
        "    WITH dim_data_raw AS (\n",
        "        SELECT DISTINCT\n",
        "            data,\n",
        "            YEAR(data) AS ano,\n",
        "            MONTH(data) AS mes,\n",
        "            DAY(data) AS dia,\n",
        "            DATE_FORMAT(data, 'E') AS dia_semana_en\n",
        "        FROM\n",
        "            vendas_temp\n",
        "    )\n",
        "    SELECT\n",
        "        ROW_NUMBER() OVER (ORDER BY data) AS id_data,\n",
        "        data,\n",
        "        ano,\n",
        "        mes,\n",
        "        dia,\n",
        "        CASE dia_semana_en\n",
        "            WHEN 'Mon' THEN 'Segunda-feira'\n",
        "            WHEN 'Tue' THEN 'Terça-feira'\n",
        "            WHEN 'Wed' THEN 'Quarta-feira'\n",
        "            WHEN 'Thu' THEN 'Quinta-feira'\n",
        "            WHEN 'Fri' THEN 'Sexta-feira'\n",
        "            WHEN 'Sat' THEN 'Sábado'\n",
        "            WHEN 'Sun' THEN 'Domingo'\n",
        "            ELSE dia_semana_en\n",
        "        END AS dia_semana\n",
        "    FROM\n",
        "        dim_data_raw\n",
        "\"\"\")\n",
        "\n",
        "dim_data.createOrReplaceTempView(\"dim_data\")\n",
        "display(HTML(f\"<pre>{dim_data._jdf.showString(100, 20, False)}</pre>\"))\n"
      ],
      "metadata": {
        "colab": {
          "base_uri": "https://localhost:8080/",
          "height": 590
        },
        "id": "Q0kS4OV6BrE1",
        "outputId": "ff0e59a0-6cd8-4cef-8a08-34fdb0b442cc"
      },
      "execution_count": 5,
      "outputs": [
        {
          "output_type": "display_data",
          "data": {
            "text/plain": [
              "<IPython.core.display.HTML object>"
            ],
            "text/html": [
              "<pre>+-------+----------+----+---+---+-------------+\n",
              "|id_data|      data| ano|mes|dia|   dia_semana|\n",
              "+-------+----------+----+---+---+-------------+\n",
              "|      1|2024-01-01|2024|  1|  1|Segunda-feira|\n",
              "|      2|2024-01-02|2024|  1|  2|  Terça-feira|\n",
              "|      3|2024-01-04|2024|  1|  4| Quinta-feira|\n",
              "|      4|2024-01-05|2024|  1|  5|  Sexta-feira|\n",
              "|      5|2024-01-06|2024|  1|  6|       Sábado|\n",
              "|      6|2024-01-07|2024|  1|  7|      Domingo|\n",
              "|      7|2024-01-08|2024|  1|  8|Segunda-feira|\n",
              "|      8|2024-01-09|2024|  1|  9|  Terça-feira|\n",
              "|      9|2024-01-10|2024|  1| 10| Quarta-feira|\n",
              "|     10|2024-01-11|2024|  1| 11| Quinta-feira|\n",
              "|     11|2024-01-12|2024|  1| 12|  Sexta-feira|\n",
              "|     12|2024-01-13|2024|  1| 13|       Sábado|\n",
              "|     13|2024-01-14|2024|  1| 14|      Domingo|\n",
              "|     14|2024-01-15|2024|  1| 15|Segunda-feira|\n",
              "|     15|2024-01-16|2024|  1| 16|  Terça-feira|\n",
              "|     16|2024-01-17|2024|  1| 17| Quarta-feira|\n",
              "|     17|2024-01-18|2024|  1| 18| Quinta-feira|\n",
              "|     18|2024-01-19|2024|  1| 19|  Sexta-feira|\n",
              "|     19|2024-01-20|2024|  1| 20|       Sábado|\n",
              "|     20|2024-01-21|2024|  1| 21|      Domingo|\n",
              "|     21|2024-01-22|2024|  1| 22|Segunda-feira|\n",
              "|     22|2024-01-23|2024|  1| 23|  Terça-feira|\n",
              "|     23|2024-01-24|2024|  1| 24| Quarta-feira|\n",
              "|     24|2024-01-25|2024|  1| 25| Quinta-feira|\n",
              "|     25|2024-01-26|2024|  1| 26|  Sexta-feira|\n",
              "|     26|2024-01-27|2024|  1| 27|       Sábado|\n",
              "|     27|2024-01-28|2024|  1| 28|      Domingo|\n",
              "|     28|2024-01-29|2024|  1| 29|Segunda-feira|\n",
              "|     29|2024-01-30|2024|  1| 30|  Terça-feira|\n",
              "+-------+----------+----+---+---+-------------+\n",
              "</pre>"
            ]
          },
          "metadata": {}
        }
      ]
    },
    {
      "cell_type": "code",
      "source": [
        "fato_vendas = spark.sql(\"\"\"\n",
        "    WITH base_fato AS (\n",
        "        SELECT DISTINCT\n",
        "            v.qtd_vendida,\n",
        "            v.valor_total,\n",
        "            dc.id_cliente,\n",
        "            dp.id_produto,\n",
        "            dd.id_data\n",
        "        FROM vendas_temp v\n",
        "        JOIN dim_cliente dc\n",
        "            ON v.nome_cliente = dc.nome_cliente\n",
        "           AND v.cidade = dc.cidade\n",
        "           AND v.estado = dc.estado\n",
        "        JOIN dim_produto dp\n",
        "            ON v.nome_produto = dp.nome_produto\n",
        "           AND v.categoria = dp.categoria\n",
        "           AND v.fabricante = dp.fabricante\n",
        "        JOIN dim_data dd\n",
        "            ON v.data = dd.data\n",
        "    )\n",
        "\n",
        "    SELECT\n",
        "        ROW_NUMBER() OVER (ORDER BY id_cliente, id_produto, id_data, qtd_vendida, valor_total) AS id_fato,\n",
        "        qtd_vendida,\n",
        "        valor_total,\n",
        "        id_cliente,\n",
        "        id_produto,\n",
        "        id_data\n",
        "    FROM base_fato\n",
        "\"\"\")\n",
        "\n",
        "display(HTML(f\"<pre>{fato_vendas._jdf.showString(100, 20, False)}</pre>\"))\n"
      ],
      "metadata": {
        "colab": {
          "base_uri": "https://localhost:8080/",
          "height": 1000
        },
        "id": "2C2RRbRvB2NB",
        "outputId": "75c4e51c-0ab8-4f6c-d896-a9f5c3b7f827"
      },
      "execution_count": 6,
      "outputs": [
        {
          "output_type": "display_data",
          "data": {
            "text/plain": [
              "<IPython.core.display.HTML object>"
            ],
            "text/html": [
              "<pre>+-------+-----------+-----------+----------+----------+-------+\n",
              "|id_fato|qtd_vendida|valor_total|id_cliente|id_produto|id_data|\n",
              "+-------+-----------+-----------+----------+----------+-------+\n",
              "|      1|          3|      57.00|         1|         1|     18|\n",
              "|      2|          2|      36.00|         1|         2|     14|\n",
              "|      3|          1|      37.00|         1|         2|     19|\n",
              "|      4|          1|      33.00|         1|         2|     20|\n",
              "|      5|          7|     259.00|         1|         3|      6|\n",
              "|      6|          1|      43.00|         1|         3|      9|\n",
              "|      7|          9|      90.00|         1|         3|     15|\n",
              "|      8|          5|     205.00|         1|         3|     22|\n",
              "|      9|          4|     184.00|         1|         3|     23|\n",
              "|     10|          5|     215.00|         1|         3|     26|\n",
              "|     11|         10|     110.00|         1|         3|     28|\n",
              "|     12|          7|      70.00|         1|         4|      1|\n",
              "|     13|          8|      88.00|         1|         4|      1|\n",
              "|     14|          2|      56.00|         1|         4|      5|\n",
              "|     15|          3|     150.00|         1|         4|     14|\n",
              "|     16|          6|     174.00|         1|         4|     20|\n",
              "|     17|          3|      57.00|         1|         5|      8|\n",
              "|     18|          8|     120.00|         1|         5|     15|\n",
              "|     19|          1|      48.00|         1|         5|     19|\n",
              "|     20|          8|      48.00|         1|         5|     19|\n",
              "|     21|         10|     220.00|         1|         5|     21|\n",
              "|     22|          9|      45.00|         2|         1|      1|\n",
              "|     23|          5|     120.00|         2|         1|      2|\n",
              "|     24|          9|     441.00|         2|         1|      3|\n",
              "|     25|          9|     423.00|         2|         1|     12|\n",
              "|     26|          8|     320.00|         2|         1|     13|\n",
              "|     27|          7|     273.00|         2|         1|     23|\n",
              "|     28|          3|      48.00|         2|         1|     29|\n",
              "|     29|          4|      24.00|         2|         2|      1|\n",
              "|     30|         10|     190.00|         2|         2|      2|\n",
              "|     31|          8|     368.00|         2|         2|      3|\n",
              "|     32|          9|     432.00|         2|         2|      9|\n",
              "|     33|          3|      39.00|         2|         2|     12|\n",
              "|     34|          4|      40.00|         2|         2|     19|\n",
              "|     35|          7|      84.00|         2|         2|     20|\n",
              "|     36|          4|      96.00|         2|         2|     26|\n",
              "|     37|          1|      46.00|         2|         3|      8|\n",
              "|     38|          9|     171.00|         2|         3|     12|\n",
              "|     39|         10|     470.00|         2|         3|     18|\n",
              "|     40|          9|      45.00|         2|         3|     24|\n",
              "|     41|          3|      87.00|         2|         3|     29|\n",
              "|     42|          9|     162.00|         2|         4|     18|\n",
              "|     43|          5|     120.00|         2|         4|     20|\n",
              "|     44|          1|      21.00|         2|         4|     24|\n",
              "|     45|          4|      52.00|         2|         5|      6|\n",
              "|     46|          7|     217.00|         2|         5|      7|\n",
              "|     47|          8|     312.00|         2|         5|     29|\n",
              "|     48|          3|      90.00|         3|         1|      2|\n",
              "|     49|          8|      88.00|         3|         1|      9|\n",
              "|     50|          2|      86.00|         3|         1|     12|\n",
              "|     51|          2|      42.00|         3|         1|     18|\n",
              "|     52|          7|     343.00|         3|         2|      2|\n",
              "|     53|          6|     204.00|         3|         2|     11|\n",
              "|     54|          6|      90.00|         3|         2|     25|\n",
              "|     55|         10|     240.00|         3|         3|     13|\n",
              "|     56|         10|     260.00|         3|         3|     16|\n",
              "|     57|          7|     210.00|         3|         3|     19|\n",
              "|     58|          3|      51.00|         3|         3|     22|\n",
              "|     59|          3|      69.00|         3|         3|     27|\n",
              "|     60|          2|      12.00|         3|         3|     29|\n",
              "|     61|          1|      38.00|         3|         4|      1|\n",
              "|     62|          4|     184.00|         3|         4|      2|\n",
              "|     63|          5|     160.00|         3|         4|     11|\n",
              "|     64|          2|      42.00|         3|         4|     20|\n",
              "|     65|          8|     264.00|         3|         5|     10|\n",
              "|     66|          7|     140.00|         3|         5|     16|\n",
              "|     67|          6|     198.00|         3|         5|     25|\n",
              "|     68|         10|     180.00|         3|         5|     29|\n",
              "|     69|          5|     220.00|         4|         1|      2|\n",
              "|     70|          8|     272.00|         4|         1|      2|\n",
              "|     71|          9|     243.00|         4|         2|      5|\n",
              "|     72|         10|     360.00|         4|         3|      4|\n",
              "|     73|         10|     170.00|         4|         4|      4|\n",
              "|     74|          5|     115.00|         4|         4|      7|\n",
              "|     75|          1|       9.00|         4|         4|     10|\n",
              "|     76|          4|     148.00|         4|         4|     19|\n",
              "|     77|          3|      93.00|         4|         5|      6|\n",
              "|     78|          1|      47.00|         4|         5|     12|\n",
              "|     79|          3|     117.00|         4|         5|     18|\n",
              "|     80|          5|      35.00|         5|         1|      4|\n",
              "|     81|          3|      87.00|         5|         1|     23|\n",
              "|     82|          3|      27.00|         5|         2|      4|\n",
              "|     83|          4|     156.00|         5|         2|     10|\n",
              "|     84|          6|     102.00|         5|         2|     10|\n",
              "|     85|         10|     240.00|         5|         2|     17|\n",
              "|     86|          4|      20.00|         5|         2|     29|\n",
              "|     87|          4|     196.00|         5|         2|     29|\n",
              "|     88|          7|     168.00|         5|         3|      4|\n",
              "|     89|          4|     152.00|         5|         3|     27|\n",
              "|     90|          8|     192.00|         5|         3|     27|\n",
              "|     91|          5|      65.00|         5|         3|     28|\n",
              "|     92|          7|     266.00|         5|         4|      1|\n",
              "|     93|          6|     192.00|         5|         4|      9|\n",
              "|     94|          8|     104.00|         5|         4|      9|\n",
              "|     95|          7|     273.00|         5|         4|     25|\n",
              "|     96|          5|      90.00|         5|         5|      6|\n",
              "|     97|          3|     114.00|         5|         5|     13|\n",
              "|     98|          7|     154.00|         5|         5|     15|\n",
              "|     99|         10|     390.00|         5|         5|     18|\n",
              "|    100|          2|      90.00|         5|         5|     23|\n",
              "+-------+-----------+-----------+----------+----------+-------+\n",
              "</pre>"
            ]
          },
          "metadata": {}
        }
      ]
    },
    {
      "cell_type": "code",
      "source": [
        "dim_cliente.coalesce(1).write.csv(\"/content/dim_cliente\", header=True, mode=\"overwrite\")\n",
        "dim_produto.coalesce(1).write.csv(\"/content/dim_produto\", header=True, mode=\"overwrite\")\n",
        "dim_data.coalesce(1).write.csv(\"/content/dim_data\", header=True, mode=\"overwrite\")\n",
        "fato_vendas.coalesce(1).write.csv(\"/content/fato_vendas\", header=True, mode=\"overwrite\")\n"
      ],
      "metadata": {
        "id": "5VtK34PICjCW"
      },
      "execution_count": 7,
      "outputs": []
    }
  ]
}
